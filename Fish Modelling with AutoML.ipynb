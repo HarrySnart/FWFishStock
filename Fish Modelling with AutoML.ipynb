{
 "cells": [
  {
   "cell_type": "markdown",
   "id": "f29401d0-dcd0-4fb4-92c3-b6a1b02ac01c",
   "metadata": {},
   "source": [
    "# Using AutoML to Predict Fish Stock"
   ]
  },
  {
   "cell_type": "markdown",
   "id": "d8e5f57d-3fef-4ba9-85a8-64ed3a7de201",
   "metadata": {},
   "source": [
    "Here we use the automlx library to run AutoML on our prepared dataset for modelling observed fish stock. "
   ]
  },
  {
   "cell_type": "markdown",
   "id": "d1288a3c-634e-4abe-872f-54291f83d3d1",
   "metadata": {},
   "source": [
    "## Load Dependencies"
   ]
  },
  {
   "cell_type": "code",
   "execution_count": 2,
   "id": "04b3410e-8c13-4765-8d1d-dd1e2d1287fe",
   "metadata": {
    "tags": []
   },
   "outputs": [],
   "source": [
    "import ads\n",
    "import automlx\n",
    "import pandas as pd\n",
    "from ads.dataset.dataset import ADSDataset\n",
    "from ads.dataset.factory import DatasetFactory\n",
    "from automlx import init"
   ]
  },
  {
   "cell_type": "code",
   "execution_count": 3,
   "id": "9e7c9820-8674-4378-bc9c-a4f7d9d5ee8c",
   "metadata": {
    "tags": []
   },
   "outputs": [],
   "source": [
    "%load_ext autoreload\n",
    "%autoreload 2\n",
    "%matplotlib inline"
   ]
  },
  {
   "cell_type": "markdown",
   "id": "687305ee-7703-4bd9-b8d9-7c323b24d2e4",
   "metadata": {},
   "source": [
    "## Load Data"
   ]
  },
  {
   "cell_type": "code",
   "execution_count": 4,
   "id": "ac375876-f0e3-40a2-b52e-965a5f89512a",
   "metadata": {
    "tags": []
   },
   "outputs": [],
   "source": [
    "train = pd.read_csv('./prepared_data/train.csv')\n",
    "test = pd.read_csv('./prepared_data/test.csv')"
   ]
  },
  {
   "cell_type": "code",
   "execution_count": 5,
   "id": "944423f7-b749-4e91-bfbf-8fbf00f4a9c4",
   "metadata": {
    "tags": []
   },
   "outputs": [
    {
     "data": {
      "text/html": [
       "<div>\n",
       "<style scoped>\n",
       "    .dataframe tbody tr th:only-of-type {\n",
       "        vertical-align: middle;\n",
       "    }\n",
       "\n",
       "    .dataframe tbody tr th {\n",
       "        vertical-align: top;\n",
       "    }\n",
       "\n",
       "    .dataframe thead th {\n",
       "        text-align: right;\n",
       "    }\n",
       "</style>\n",
       "<table border=\"1\" class=\"dataframe\">\n",
       "  <thead>\n",
       "    <tr style=\"text-align: right;\">\n",
       "      <th></th>\n",
       "      <th>EVENT_DATE_YEAR</th>\n",
       "      <th>SURVEY_RANKED_EASTING</th>\n",
       "      <th>SURVEY_RANKED_NORTHING</th>\n",
       "      <th>FISHED_AREA</th>\n",
       "      <th>AREA_DART</th>\n",
       "      <th>AREA_EXE</th>\n",
       "      <th>AREA_PLYM</th>\n",
       "      <th>AREA_TEIGN</th>\n",
       "      <th>SPECIES_SEA_TROUT</th>\n",
       "      <th>SPECIES_BULLHEAD</th>\n",
       "      <th>...</th>\n",
       "      <th>SURVEY_METHOD_DC_ELECTRIC_FISHING_SINGLE_CATCH</th>\n",
       "      <th>SURVEY_METHOD_ELECTRIC_FISHING_DEPLETION_SAMPLE</th>\n",
       "      <th>SURVEY_METHOD_ELECTRIC_FISHING_TSAMPLE</th>\n",
       "      <th>SURVEY_METHOD_ELECTRIC_FISHING_SINGLE_CATCH</th>\n",
       "      <th>SURVEY_METHOD_PDC_ELECTRIC_FISHING_TSAMPLE</th>\n",
       "      <th>SURVEY_METHOD_PDC_ELECTRIC_FISHING_SINGLE_CATCH</th>\n",
       "      <th>OBSERVED</th>\n",
       "      <th>SEASON_SUMMER</th>\n",
       "      <th>SEASON_AUTUMN</th>\n",
       "      <th>LOG_OBSERVED</th>\n",
       "    </tr>\n",
       "  </thead>\n",
       "  <tbody>\n",
       "    <tr>\n",
       "      <th>0</th>\n",
       "      <td>-0.127746</td>\n",
       "      <td>0.352584</td>\n",
       "      <td>-1.076938</td>\n",
       "      <td>-0.410373</td>\n",
       "      <td>0.0</td>\n",
       "      <td>0.0</td>\n",
       "      <td>0.0</td>\n",
       "      <td>1.0</td>\n",
       "      <td>0.0</td>\n",
       "      <td>1.0</td>\n",
       "      <td>...</td>\n",
       "      <td>0.0</td>\n",
       "      <td>0.0</td>\n",
       "      <td>1.0</td>\n",
       "      <td>0.0</td>\n",
       "      <td>0.0</td>\n",
       "      <td>0.0</td>\n",
       "      <td>60.0</td>\n",
       "      <td>1.0</td>\n",
       "      <td>0.0</td>\n",
       "      <td>4.110874</td>\n",
       "    </tr>\n",
       "    <tr>\n",
       "      <th>1</th>\n",
       "      <td>0.806263</td>\n",
       "      <td>0.765311</td>\n",
       "      <td>0.918672</td>\n",
       "      <td>-0.107021</td>\n",
       "      <td>0.0</td>\n",
       "      <td>1.0</td>\n",
       "      <td>0.0</td>\n",
       "      <td>0.0</td>\n",
       "      <td>0.0</td>\n",
       "      <td>0.0</td>\n",
       "      <td>...</td>\n",
       "      <td>0.0</td>\n",
       "      <td>0.0</td>\n",
       "      <td>0.0</td>\n",
       "      <td>1.0</td>\n",
       "      <td>0.0</td>\n",
       "      <td>0.0</td>\n",
       "      <td>85.0</td>\n",
       "      <td>1.0</td>\n",
       "      <td>0.0</td>\n",
       "      <td>4.454347</td>\n",
       "    </tr>\n",
       "    <tr>\n",
       "      <th>2</th>\n",
       "      <td>1.428936</td>\n",
       "      <td>-1.544878</td>\n",
       "      <td>-1.071694</td>\n",
       "      <td>-0.741766</td>\n",
       "      <td>1.0</td>\n",
       "      <td>0.0</td>\n",
       "      <td>0.0</td>\n",
       "      <td>0.0</td>\n",
       "      <td>0.0</td>\n",
       "      <td>0.0</td>\n",
       "      <td>...</td>\n",
       "      <td>0.0</td>\n",
       "      <td>0.0</td>\n",
       "      <td>0.0</td>\n",
       "      <td>1.0</td>\n",
       "      <td>0.0</td>\n",
       "      <td>0.0</td>\n",
       "      <td>2.0</td>\n",
       "      <td>1.0</td>\n",
       "      <td>0.0</td>\n",
       "      <td>1.098612</td>\n",
       "    </tr>\n",
       "    <tr>\n",
       "      <th>3</th>\n",
       "      <td>0.806263</td>\n",
       "      <td>1.116206</td>\n",
       "      <td>0.109802</td>\n",
       "      <td>2.076609</td>\n",
       "      <td>0.0</td>\n",
       "      <td>1.0</td>\n",
       "      <td>0.0</td>\n",
       "      <td>0.0</td>\n",
       "      <td>0.0</td>\n",
       "      <td>0.0</td>\n",
       "      <td>...</td>\n",
       "      <td>0.0</td>\n",
       "      <td>0.0</td>\n",
       "      <td>1.0</td>\n",
       "      <td>0.0</td>\n",
       "      <td>0.0</td>\n",
       "      <td>0.0</td>\n",
       "      <td>154.0</td>\n",
       "      <td>1.0</td>\n",
       "      <td>0.0</td>\n",
       "      <td>5.043425</td>\n",
       "    </tr>\n",
       "    <tr>\n",
       "      <th>4</th>\n",
       "      <td>-0.439082</td>\n",
       "      <td>0.069703</td>\n",
       "      <td>0.959919</td>\n",
       "      <td>0.644318</td>\n",
       "      <td>0.0</td>\n",
       "      <td>1.0</td>\n",
       "      <td>0.0</td>\n",
       "      <td>0.0</td>\n",
       "      <td>0.0</td>\n",
       "      <td>0.0</td>\n",
       "      <td>...</td>\n",
       "      <td>0.0</td>\n",
       "      <td>0.0</td>\n",
       "      <td>1.0</td>\n",
       "      <td>0.0</td>\n",
       "      <td>0.0</td>\n",
       "      <td>0.0</td>\n",
       "      <td>0.0</td>\n",
       "      <td>0.0</td>\n",
       "      <td>0.0</td>\n",
       "      <td>0.000000</td>\n",
       "    </tr>\n",
       "  </tbody>\n",
       "</table>\n",
       "<p>5 rows × 27 columns</p>\n",
       "</div>"
      ],
      "text/plain": [
       "   EVENT_DATE_YEAR  SURVEY_RANKED_EASTING  SURVEY_RANKED_NORTHING  \\\n",
       "0        -0.127746               0.352584               -1.076938   \n",
       "1         0.806263               0.765311                0.918672   \n",
       "2         1.428936              -1.544878               -1.071694   \n",
       "3         0.806263               1.116206                0.109802   \n",
       "4        -0.439082               0.069703                0.959919   \n",
       "\n",
       "   FISHED_AREA  AREA_DART  AREA_EXE  AREA_PLYM  AREA_TEIGN  SPECIES_SEA_TROUT  \\\n",
       "0    -0.410373        0.0       0.0        0.0         1.0                0.0   \n",
       "1    -0.107021        0.0       1.0        0.0         0.0                0.0   \n",
       "2    -0.741766        1.0       0.0        0.0         0.0                0.0   \n",
       "3     2.076609        0.0       1.0        0.0         0.0                0.0   \n",
       "4     0.644318        0.0       1.0        0.0         0.0                0.0   \n",
       "\n",
       "   SPECIES_BULLHEAD  ...  SURVEY_METHOD_DC_ELECTRIC_FISHING_SINGLE_CATCH  \\\n",
       "0               1.0  ...                                             0.0   \n",
       "1               0.0  ...                                             0.0   \n",
       "2               0.0  ...                                             0.0   \n",
       "3               0.0  ...                                             0.0   \n",
       "4               0.0  ...                                             0.0   \n",
       "\n",
       "   SURVEY_METHOD_ELECTRIC_FISHING_DEPLETION_SAMPLE  \\\n",
       "0                                              0.0   \n",
       "1                                              0.0   \n",
       "2                                              0.0   \n",
       "3                                              0.0   \n",
       "4                                              0.0   \n",
       "\n",
       "   SURVEY_METHOD_ELECTRIC_FISHING_TSAMPLE  \\\n",
       "0                                     1.0   \n",
       "1                                     0.0   \n",
       "2                                     0.0   \n",
       "3                                     1.0   \n",
       "4                                     1.0   \n",
       "\n",
       "   SURVEY_METHOD_ELECTRIC_FISHING_SINGLE_CATCH  \\\n",
       "0                                          0.0   \n",
       "1                                          1.0   \n",
       "2                                          1.0   \n",
       "3                                          0.0   \n",
       "4                                          0.0   \n",
       "\n",
       "   SURVEY_METHOD_PDC_ELECTRIC_FISHING_TSAMPLE  \\\n",
       "0                                         0.0   \n",
       "1                                         0.0   \n",
       "2                                         0.0   \n",
       "3                                         0.0   \n",
       "4                                         0.0   \n",
       "\n",
       "   SURVEY_METHOD_PDC_ELECTRIC_FISHING_SINGLE_CATCH  OBSERVED  SEASON_SUMMER  \\\n",
       "0                                              0.0      60.0            1.0   \n",
       "1                                              0.0      85.0            1.0   \n",
       "2                                              0.0       2.0            1.0   \n",
       "3                                              0.0     154.0            1.0   \n",
       "4                                              0.0       0.0            0.0   \n",
       "\n",
       "   SEASON_AUTUMN  LOG_OBSERVED  \n",
       "0            0.0      4.110874  \n",
       "1            0.0      4.454347  \n",
       "2            0.0      1.098612  \n",
       "3            0.0      5.043425  \n",
       "4            0.0      0.000000  \n",
       "\n",
       "[5 rows x 27 columns]"
      ]
     },
     "execution_count": 5,
     "metadata": {},
     "output_type": "execute_result"
    }
   ],
   "source": [
    "train.head()"
   ]
  },
  {
   "cell_type": "code",
   "execution_count": 6,
   "id": "466eff4b-48b2-4e94-8aa0-2a702150b509",
   "metadata": {
    "tags": []
   },
   "outputs": [
    {
     "data": {
      "text/plain": [
       "Index(['EVENT_DATE_YEAR', 'SURVEY_RANKED_EASTING', 'SURVEY_RANKED_NORTHING',\n",
       "       'FISHED_AREA', 'AREA_DART', 'AREA_EXE', 'AREA_PLYM', 'AREA_TEIGN',\n",
       "       'SPECIES_SEA_TROUT', 'SPECIES_BULLHEAD', 'SPECIES_EUROPEAN_EEL',\n",
       "       'SPECIES_LAMPREY', 'SPECIES_MINNOW', 'SPECIES_OTHER',\n",
       "       'SPECIES_STONE_LOACH', 'SURVEY_METHOD_AC_ELECTRIC_FISHING_SINGLE_CATCH',\n",
       "       'SURVEY_METHOD_DC_ELECTRIC_FISHING_TSAMPLE',\n",
       "       'SURVEY_METHOD_DC_ELECTRIC_FISHING_SINGLE_CATCH',\n",
       "       'SURVEY_METHOD_ELECTRIC_FISHING_DEPLETION_SAMPLE',\n",
       "       'SURVEY_METHOD_ELECTRIC_FISHING_TSAMPLE',\n",
       "       'SURVEY_METHOD_ELECTRIC_FISHING_SINGLE_CATCH',\n",
       "       'SURVEY_METHOD_PDC_ELECTRIC_FISHING_TSAMPLE',\n",
       "       'SURVEY_METHOD_PDC_ELECTRIC_FISHING_SINGLE_CATCH', 'OBSERVED',\n",
       "       'SEASON_SUMMER', 'SEASON_AUTUMN', 'LOG_OBSERVED'],\n",
       "      dtype='object')"
      ]
     },
     "execution_count": 6,
     "metadata": {},
     "output_type": "execute_result"
    }
   ],
   "source": [
    "train.keys()"
   ]
  },
  {
   "cell_type": "markdown",
   "id": "799e089b-9b5a-4306-8f70-9e2fb41552d3",
   "metadata": {},
   "source": [
    "## Split Data into Features / Targets"
   ]
  },
  {
   "cell_type": "code",
   "execution_count": 7,
   "id": "5faf3010-a281-4eb0-aa2f-22e1ff28f4b6",
   "metadata": {
    "tags": []
   },
   "outputs": [],
   "source": [
    "X_train = train[['EVENT_DATE_YEAR', 'SURVEY_RANKED_EASTING', 'SURVEY_RANKED_NORTHING',\n",
    "       'FISHED_AREA', 'AREA_DART', 'AREA_EXE', 'AREA_PLYM', 'AREA_TEIGN',\n",
    "       'SPECIES_SEA_TROUT', 'SPECIES_BULLHEAD', 'SPECIES_EUROPEAN_EEL',\n",
    "       'SPECIES_LAMPREY', 'SPECIES_MINNOW', 'SPECIES_OTHER',\n",
    "       'SPECIES_STONE_LOACH', 'SURVEY_METHOD_AC_ELECTRIC_FISHING_SINGLE_CATCH',\n",
    "       'SURVEY_METHOD_DC_ELECTRIC_FISHING_TSAMPLE',\n",
    "       'SURVEY_METHOD_DC_ELECTRIC_FISHING_SINGLE_CATCH',\n",
    "       'SURVEY_METHOD_ELECTRIC_FISHING_DEPLETION_SAMPLE',\n",
    "       'SURVEY_METHOD_ELECTRIC_FISHING_TSAMPLE',\n",
    "       'SURVEY_METHOD_ELECTRIC_FISHING_SINGLE_CATCH',\n",
    "       'SURVEY_METHOD_PDC_ELECTRIC_FISHING_TSAMPLE',\n",
    "       'SURVEY_METHOD_PDC_ELECTRIC_FISHING_SINGLE_CATCH', \n",
    "       'SEASON_SUMMER', 'SEASON_AUTUMN']]\n",
    "\n",
    "X_test = test[['EVENT_DATE_YEAR', 'SURVEY_RANKED_EASTING', 'SURVEY_RANKED_NORTHING',\n",
    "       'FISHED_AREA', 'AREA_DART', 'AREA_EXE', 'AREA_PLYM', 'AREA_TEIGN',\n",
    "       'SPECIES_SEA_TROUT', 'SPECIES_BULLHEAD', 'SPECIES_EUROPEAN_EEL',\n",
    "       'SPECIES_LAMPREY', 'SPECIES_MINNOW', 'SPECIES_OTHER',\n",
    "       'SPECIES_STONE_LOACH', 'SURVEY_METHOD_AC_ELECTRIC_FISHING_SINGLE_CATCH',\n",
    "       'SURVEY_METHOD_DC_ELECTRIC_FISHING_TSAMPLE',\n",
    "       'SURVEY_METHOD_DC_ELECTRIC_FISHING_SINGLE_CATCH',\n",
    "       'SURVEY_METHOD_ELECTRIC_FISHING_DEPLETION_SAMPLE',\n",
    "       'SURVEY_METHOD_ELECTRIC_FISHING_TSAMPLE',\n",
    "       'SURVEY_METHOD_ELECTRIC_FISHING_SINGLE_CATCH',\n",
    "       'SURVEY_METHOD_PDC_ELECTRIC_FISHING_TSAMPLE',\n",
    "       'SURVEY_METHOD_PDC_ELECTRIC_FISHING_SINGLE_CATCH', \n",
    "       'SEASON_SUMMER', 'SEASON_AUTUMN']]"
   ]
  },
  {
   "cell_type": "code",
   "execution_count": 16,
   "id": "f5d4fe92-1342-41ed-bc9d-ae63ab51dccd",
   "metadata": {
    "tags": []
   },
   "outputs": [],
   "source": [
    "y_train = train['LOG_OBSERVED']\n",
    "y_test = test['LOG_OBSERVED']"
   ]
  },
  {
   "cell_type": "markdown",
   "id": "5fc3a9a9-9e1a-4295-a397-47ff2bd18c4c",
   "metadata": {},
   "source": [
    "## Train AutoML Model"
   ]
  },
  {
   "cell_type": "markdown",
   "id": "c1139fee-652b-49bf-b423-0a7e5e2bbc2f",
   "metadata": {},
   "source": [
    "We start by initialising the automlx engine. The engine is initialised locally, but can be initialised for other engine types such as Dask for distributed compute.\n",
    "\n",
    "We can create our AutoML pipeline, here we specify the modelling task type (i.e. regression), parameters for the number or trials, algorithms etc. and specify which features we want to use. \n",
    "\n",
    "NOTE: we set min_features to 1.0 which means we'll use all features and bypass the feature selection step."
   ]
  },
  {
   "cell_type": "code",
   "execution_count": 9,
   "id": "bab7555c-eea2-47ae-bb00-c4997687841a",
   "metadata": {
    "tags": []
   },
   "outputs": [],
   "source": [
    "init('local')"
   ]
  },
  {
   "cell_type": "code",
   "execution_count": 23,
   "id": "27939485-ce93-4621-8f42-fbdb6a6d043d",
   "metadata": {
    "tags": []
   },
   "outputs": [
    {
     "name": "stdout",
     "output_type": "stream",
     "text": [
      "[2025-04-01 11:11:58,424] [automlx.interface] Dataset shape: (1338,25)\n",
      "[2025-04-01 11:11:58,564] [automlx.data_transform] Running preprocessing. Number of features: 26\n",
      "[2025-04-01 11:11:58,837] [automlx.data_transform] Preprocessing completed. Took 0.273 secs\n",
      "[2025-04-01 11:11:58,855] [automlx.process] Running Model Generation\n",
      "[2025-04-01 11:11:58,954] [automlx] Provided model (TorchMLPRegressor) is not supported.Supported models are: ['LGBMRegressor', 'SVR', 'AdaBoostRegressor', 'DecisionTreeRegressor', 'ExtraTreesRegressor', 'KNeighborsRegressor', 'LinearRegression', 'LinearSVR', 'RandomForestRegressor', 'XGBRegressor']\n",
      "[2025-04-01 11:11:58,965] [automlx.process] Model Generation completed.\n",
      "[2025-04-01 11:11:58,989] [automlx.model_selection] Running Model Selection\n",
      "[2025-04-01 11:12:43,323] [automlx.model_selection] Model Selection completed - Took 44.334 sec - Selected models: ['LinearRegression', 'LinearSVR']\n",
      "[2025-04-01 11:12:43,360] [automlx.adaptive_sampling] Running Adaptive Sampling. Dataset shape: (1338,26).\n",
      "[2025-04-01 11:12:43,407] [automlx.adaptive_sampling] Adaptive Sampling: top_limit: 268 < bottom_limit: 1000,\n",
      "sampling process will be skipped\n",
      "[2025-04-01 11:12:46,292] [automlx.trials] Adaptive Sampling completed - Took 2.9321 sec.\n",
      "[2025-04-01 11:12:46,360] [automlx.trials] skipping model tuning for pipelines: ['TargetInputTransformer_AdaptiveSamplingStage_LinearRegression']\n",
      "[2025-04-01 11:12:46,418] [automlx.trials] Running Model Tuning for ['TargetInputTransformer_AdaptiveSamplingStage_LinearSVR']\n",
      "[2025-04-01 11:12:50,878] [automlx.trials] Best parameters for TargetInputTransformer_AdaptiveSamplingStage_LinearSVR: {'C': 0.031889375}\n",
      "[2025-04-01 11:12:50,880] [automlx.trials] Model Tuning completed. Took: 4.461 secs\n",
      "[2025-04-01 11:12:53,596] [automlx.interface] Re-fitting pipeline\n",
      "[2025-04-01 11:12:55,022] [automlx.interface] AutoMLx completed.\n"
     ]
    },
    {
     "data": {
      "text/plain": [
       "<automlx._interface.regressor.AutoRegressor at 0x7f478bb370d0>"
      ]
     },
     "execution_count": 23,
     "metadata": {},
     "output_type": "execute_result"
    }
   ],
   "source": [
    "est = automlx.Pipeline(task='regression',max_tuning_trials=2,n_algos_tuned=2,min_features=1.0)\n",
    "est.fit(X_train,y_train)"
   ]
  },
  {
   "cell_type": "markdown",
   "id": "c5b2d5a6-4755-48b8-83a7-7367bbdb98b2",
   "metadata": {},
   "source": [
    "## View Model Explanations"
   ]
  },
  {
   "cell_type": "markdown",
   "id": "0112a431-f1ca-4ed0-b562-ddec91914b5f",
   "metadata": {},
   "source": [
    "We can view model explanations using the automlx package as well. Here we can see that the season and survey method are the strongest predictors for observed samples"
   ]
  },
  {
   "cell_type": "code",
   "execution_count": 24,
   "id": "ee255bdc-d7c3-4a23-99f2-05a3b14cfd37",
   "metadata": {},
   "outputs": [],
   "source": [
    "explainer=automlx.MLExplainer(est,X_train,y_train,task='regression')"
   ]
  },
  {
   "cell_type": "code",
   "execution_count": 25,
   "id": "bbe7914d-cc40-443f-afdb-56a4738c91fb",
   "metadata": {},
   "outputs": [],
   "source": [
    "result_explain_model_default = explainer.explain_model()"
   ]
  },
  {
   "cell_type": "code",
   "execution_count": 26,
   "id": "c283b678-3f93-4741-a76c-e54fd2b97297",
   "metadata": {},
   "outputs": [
    {
     "data": {
      "application/vnd.plotly.v1+json": {
       "config": {
        "plotlyServerURL": "https://plot.ly"
       },
       "data": [
        {
         "error_x": {
          "array": [
           0.07446373847604959,
           0.07720512239822958,
           0.0017575231438068085,
           0.00048008149260056064,
           0.00083890637752556,
           0.0010089737214924665,
           0.0015568694993836312,
           0.00040257637170193543,
           1.1475845230301759e-05,
           8.164260580865352e-06,
           3.854239460530295e-06,
           3.388859025010333e-06,
           3.987431895987608e-06,
           7.270910974742571e-06,
           2.0324189134138464e-06,
           2.0393803079441492e-06,
           1.9599065608758897e-05,
           1.7156663336484113e-05,
           0.0012115594731836067,
           0.000127138090220139,
           0.0007359202455557405,
           0.0002558636895320142,
           0.0004804495498013674,
           0.0009288895173349104,
           0.00024843992601867183
          ],
          "arrayminus": [
           0.07446373847604959,
           0.07720512239822952,
           0.0017575231438068082,
           0.00048008149260056075,
           0.0008389063775255601,
           0.0010089737214924665,
           0.0015568694993836312,
           0.00040257637170193543,
           1.1475845230301757e-05,
           8.164260580865352e-06,
           3.854239460530295e-06,
           3.3888590250103336e-06,
           3.987431895987608e-06,
           7.27091097474257e-06,
           2.0324189134138464e-06,
           2.0393803079441492e-06,
           1.9599065608758897e-05,
           1.7156663336484113e-05,
           0.0012115594731836067,
           0.00012713809022013898,
           0.0007359202455557405,
           0.0002558636895320142,
           0.0004804495498013674,
           0.0009288895173349105,
           0.00024843992601867183
          ],
          "type": "data"
         },
         "legendgroup": "None",
         "marker": {
          "color": "rgb(248,0,0)"
         },
         "orientation": "h",
         "showlegend": false,
         "text": "",
         "textposition": "outside",
         "type": "bar",
         "width": 0.3,
         "x": [
          1.1121602121536451,
          0.470210933204162,
          0.0029589707583466906,
          0.0011969045981404692,
          0.0006803697055207004,
          0.0002286512546837205,
          0.00018716574229686865,
          2.511547017288729e-05,
          7.727774042065594e-06,
          3.7777012529272014e-06,
          2.95931037768149e-06,
          2.011594926043525e-06,
          1.966158795640993e-06,
          1.7947647286797875e-06,
          3.2029577622383344e-07,
          -1.0023780059320586e-06,
          -9.354182610687989e-06,
          -1.563884450681563e-05,
          -2.7532047288791884e-05,
          -3.3363086834892194e-05,
          -9.377886674860614e-05,
          -0.00018858380933814978,
          -0.0001923084884422832,
          -0.0003029275557421496,
          -0.0003502871471517177
         ],
         "y": [
          "SEASON_SUMMER",
          "SEASON_AUTUMN",
          "SURVEY_METHOD_PDC_ELECTRIC_FISHING_SINGLE_CATCH",
          "SURVEY_METHOD_ELECTRIC_FISHING_SINGLE_CATCH",
          "AREA_EXE",
          "SURVEY_METHOD_ELECTRIC_FISHING_DEPLETION_SAMPLE",
          "AREA_PLYM",
          "AREA_DART",
          "SPECIES_STONE_LOACH",
          "SPECIES_BULLHEAD",
          "SPECIES_MINNOW",
          "EVENT_DATE_YEAR",
          "SPECIES_SEA_TROUT",
          "SPECIES_EUROPEAN_EEL",
          "SPECIES_OTHER",
          "SPECIES_LAMPREY",
          "FISHED_AREA",
          "SURVEY_RANKED_EASTING",
          "SURVEY_METHOD_AC_ELECTRIC_FISHING_SINGLE_CATCH",
          "SURVEY_RANKED_NORTHING",
          "AREA_TEIGN",
          "SURVEY_METHOD_DC_ELECTRIC_FISHING_TSAMPLE",
          "SURVEY_METHOD_DC_ELECTRIC_FISHING_SINGLE_CATCH",
          "SURVEY_METHOD_PDC_ELECTRIC_FISHING_TSAMPLE",
          "SURVEY_METHOD_ELECTRIC_FISHING_TSAMPLE"
         ]
        }
       ],
       "layout": {
        "autosize": true,
        "margin": {
         "b": 20,
         "t": 80
        },
        "plot_bgcolor": "rgba(0, 0, 0, 0)",
        "template": {
         "data": {
          "bar": [
           {
            "error_x": {
             "color": "#2a3f5f"
            },
            "error_y": {
             "color": "#2a3f5f"
            },
            "marker": {
             "line": {
              "color": "#E5ECF6",
              "width": 0.5
             },
             "pattern": {
              "fillmode": "overlay",
              "size": 10,
              "solidity": 0.2
             }
            },
            "type": "bar"
           }
          ],
          "barpolar": [
           {
            "marker": {
             "line": {
              "color": "#E5ECF6",
              "width": 0.5
             },
             "pattern": {
              "fillmode": "overlay",
              "size": 10,
              "solidity": 0.2
             }
            },
            "type": "barpolar"
           }
          ],
          "carpet": [
           {
            "aaxis": {
             "endlinecolor": "#2a3f5f",
             "gridcolor": "white",
             "linecolor": "white",
             "minorgridcolor": "white",
             "startlinecolor": "#2a3f5f"
            },
            "baxis": {
             "endlinecolor": "#2a3f5f",
             "gridcolor": "white",
             "linecolor": "white",
             "minorgridcolor": "white",
             "startlinecolor": "#2a3f5f"
            },
            "type": "carpet"
           }
          ],
          "choropleth": [
           {
            "colorbar": {
             "outlinewidth": 0,
             "ticks": ""
            },
            "type": "choropleth"
           }
          ],
          "contour": [
           {
            "colorbar": {
             "outlinewidth": 0,
             "ticks": ""
            },
            "colorscale": [
             [
              0,
              "#0d0887"
             ],
             [
              0.1111111111111111,
              "#46039f"
             ],
             [
              0.2222222222222222,
              "#7201a8"
             ],
             [
              0.3333333333333333,
              "#9c179e"
             ],
             [
              0.4444444444444444,
              "#bd3786"
             ],
             [
              0.5555555555555556,
              "#d8576b"
             ],
             [
              0.6666666666666666,
              "#ed7953"
             ],
             [
              0.7777777777777778,
              "#fb9f3a"
             ],
             [
              0.8888888888888888,
              "#fdca26"
             ],
             [
              1,
              "#f0f921"
             ]
            ],
            "type": "contour"
           }
          ],
          "contourcarpet": [
           {
            "colorbar": {
             "outlinewidth": 0,
             "ticks": ""
            },
            "type": "contourcarpet"
           }
          ],
          "heatmap": [
           {
            "colorbar": {
             "outlinewidth": 0,
             "ticks": ""
            },
            "colorscale": [
             [
              0,
              "#0d0887"
             ],
             [
              0.1111111111111111,
              "#46039f"
             ],
             [
              0.2222222222222222,
              "#7201a8"
             ],
             [
              0.3333333333333333,
              "#9c179e"
             ],
             [
              0.4444444444444444,
              "#bd3786"
             ],
             [
              0.5555555555555556,
              "#d8576b"
             ],
             [
              0.6666666666666666,
              "#ed7953"
             ],
             [
              0.7777777777777778,
              "#fb9f3a"
             ],
             [
              0.8888888888888888,
              "#fdca26"
             ],
             [
              1,
              "#f0f921"
             ]
            ],
            "type": "heatmap"
           }
          ],
          "heatmapgl": [
           {
            "colorbar": {
             "outlinewidth": 0,
             "ticks": ""
            },
            "colorscale": [
             [
              0,
              "#0d0887"
             ],
             [
              0.1111111111111111,
              "#46039f"
             ],
             [
              0.2222222222222222,
              "#7201a8"
             ],
             [
              0.3333333333333333,
              "#9c179e"
             ],
             [
              0.4444444444444444,
              "#bd3786"
             ],
             [
              0.5555555555555556,
              "#d8576b"
             ],
             [
              0.6666666666666666,
              "#ed7953"
             ],
             [
              0.7777777777777778,
              "#fb9f3a"
             ],
             [
              0.8888888888888888,
              "#fdca26"
             ],
             [
              1,
              "#f0f921"
             ]
            ],
            "type": "heatmapgl"
           }
          ],
          "histogram": [
           {
            "marker": {
             "pattern": {
              "fillmode": "overlay",
              "size": 10,
              "solidity": 0.2
             }
            },
            "type": "histogram"
           }
          ],
          "histogram2d": [
           {
            "colorbar": {
             "outlinewidth": 0,
             "ticks": ""
            },
            "colorscale": [
             [
              0,
              "#0d0887"
             ],
             [
              0.1111111111111111,
              "#46039f"
             ],
             [
              0.2222222222222222,
              "#7201a8"
             ],
             [
              0.3333333333333333,
              "#9c179e"
             ],
             [
              0.4444444444444444,
              "#bd3786"
             ],
             [
              0.5555555555555556,
              "#d8576b"
             ],
             [
              0.6666666666666666,
              "#ed7953"
             ],
             [
              0.7777777777777778,
              "#fb9f3a"
             ],
             [
              0.8888888888888888,
              "#fdca26"
             ],
             [
              1,
              "#f0f921"
             ]
            ],
            "type": "histogram2d"
           }
          ],
          "histogram2dcontour": [
           {
            "colorbar": {
             "outlinewidth": 0,
             "ticks": ""
            },
            "colorscale": [
             [
              0,
              "#0d0887"
             ],
             [
              0.1111111111111111,
              "#46039f"
             ],
             [
              0.2222222222222222,
              "#7201a8"
             ],
             [
              0.3333333333333333,
              "#9c179e"
             ],
             [
              0.4444444444444444,
              "#bd3786"
             ],
             [
              0.5555555555555556,
              "#d8576b"
             ],
             [
              0.6666666666666666,
              "#ed7953"
             ],
             [
              0.7777777777777778,
              "#fb9f3a"
             ],
             [
              0.8888888888888888,
              "#fdca26"
             ],
             [
              1,
              "#f0f921"
             ]
            ],
            "type": "histogram2dcontour"
           }
          ],
          "mesh3d": [
           {
            "colorbar": {
             "outlinewidth": 0,
             "ticks": ""
            },
            "type": "mesh3d"
           }
          ],
          "parcoords": [
           {
            "line": {
             "colorbar": {
              "outlinewidth": 0,
              "ticks": ""
             }
            },
            "type": "parcoords"
           }
          ],
          "pie": [
           {
            "automargin": true,
            "type": "pie"
           }
          ],
          "scatter": [
           {
            "fillpattern": {
             "fillmode": "overlay",
             "size": 10,
             "solidity": 0.2
            },
            "type": "scatter"
           }
          ],
          "scatter3d": [
           {
            "line": {
             "colorbar": {
              "outlinewidth": 0,
              "ticks": ""
             }
            },
            "marker": {
             "colorbar": {
              "outlinewidth": 0,
              "ticks": ""
             }
            },
            "type": "scatter3d"
           }
          ],
          "scattercarpet": [
           {
            "marker": {
             "colorbar": {
              "outlinewidth": 0,
              "ticks": ""
             }
            },
            "type": "scattercarpet"
           }
          ],
          "scattergeo": [
           {
            "marker": {
             "colorbar": {
              "outlinewidth": 0,
              "ticks": ""
             }
            },
            "type": "scattergeo"
           }
          ],
          "scattergl": [
           {
            "marker": {
             "colorbar": {
              "outlinewidth": 0,
              "ticks": ""
             }
            },
            "type": "scattergl"
           }
          ],
          "scattermapbox": [
           {
            "marker": {
             "colorbar": {
              "outlinewidth": 0,
              "ticks": ""
             }
            },
            "type": "scattermapbox"
           }
          ],
          "scatterpolar": [
           {
            "marker": {
             "colorbar": {
              "outlinewidth": 0,
              "ticks": ""
             }
            },
            "type": "scatterpolar"
           }
          ],
          "scatterpolargl": [
           {
            "marker": {
             "colorbar": {
              "outlinewidth": 0,
              "ticks": ""
             }
            },
            "type": "scatterpolargl"
           }
          ],
          "scatterternary": [
           {
            "marker": {
             "colorbar": {
              "outlinewidth": 0,
              "ticks": ""
             }
            },
            "type": "scatterternary"
           }
          ],
          "surface": [
           {
            "colorbar": {
             "outlinewidth": 0,
             "ticks": ""
            },
            "colorscale": [
             [
              0,
              "#0d0887"
             ],
             [
              0.1111111111111111,
              "#46039f"
             ],
             [
              0.2222222222222222,
              "#7201a8"
             ],
             [
              0.3333333333333333,
              "#9c179e"
             ],
             [
              0.4444444444444444,
              "#bd3786"
             ],
             [
              0.5555555555555556,
              "#d8576b"
             ],
             [
              0.6666666666666666,
              "#ed7953"
             ],
             [
              0.7777777777777778,
              "#fb9f3a"
             ],
             [
              0.8888888888888888,
              "#fdca26"
             ],
             [
              1,
              "#f0f921"
             ]
            ],
            "type": "surface"
           }
          ],
          "table": [
           {
            "cells": {
             "fill": {
              "color": "#EBF0F8"
             },
             "line": {
              "color": "white"
             }
            },
            "header": {
             "fill": {
              "color": "#C8D4E3"
             },
             "line": {
              "color": "white"
             }
            },
            "type": "table"
           }
          ]
         },
         "layout": {
          "annotationdefaults": {
           "arrowcolor": "#2a3f5f",
           "arrowhead": 0,
           "arrowwidth": 1
          },
          "autotypenumbers": "strict",
          "coloraxis": {
           "colorbar": {
            "outlinewidth": 0,
            "ticks": ""
           }
          },
          "colorscale": {
           "diverging": [
            [
             0,
             "#8e0152"
            ],
            [
             0.1,
             "#c51b7d"
            ],
            [
             0.2,
             "#de77ae"
            ],
            [
             0.3,
             "#f1b6da"
            ],
            [
             0.4,
             "#fde0ef"
            ],
            [
             0.5,
             "#f7f7f7"
            ],
            [
             0.6,
             "#e6f5d0"
            ],
            [
             0.7,
             "#b8e186"
            ],
            [
             0.8,
             "#7fbc41"
            ],
            [
             0.9,
             "#4d9221"
            ],
            [
             1,
             "#276419"
            ]
           ],
           "sequential": [
            [
             0,
             "#0d0887"
            ],
            [
             0.1111111111111111,
             "#46039f"
            ],
            [
             0.2222222222222222,
             "#7201a8"
            ],
            [
             0.3333333333333333,
             "#9c179e"
            ],
            [
             0.4444444444444444,
             "#bd3786"
            ],
            [
             0.5555555555555556,
             "#d8576b"
            ],
            [
             0.6666666666666666,
             "#ed7953"
            ],
            [
             0.7777777777777778,
             "#fb9f3a"
            ],
            [
             0.8888888888888888,
             "#fdca26"
            ],
            [
             1,
             "#f0f921"
            ]
           ],
           "sequentialminus": [
            [
             0,
             "#0d0887"
            ],
            [
             0.1111111111111111,
             "#46039f"
            ],
            [
             0.2222222222222222,
             "#7201a8"
            ],
            [
             0.3333333333333333,
             "#9c179e"
            ],
            [
             0.4444444444444444,
             "#bd3786"
            ],
            [
             0.5555555555555556,
             "#d8576b"
            ],
            [
             0.6666666666666666,
             "#ed7953"
            ],
            [
             0.7777777777777778,
             "#fb9f3a"
            ],
            [
             0.8888888888888888,
             "#fdca26"
            ],
            [
             1,
             "#f0f921"
            ]
           ]
          },
          "colorway": [
           "#636efa",
           "#EF553B",
           "#00cc96",
           "#ab63fa",
           "#FFA15A",
           "#19d3f3",
           "#FF6692",
           "#B6E880",
           "#FF97FF",
           "#FECB52"
          ],
          "font": {
           "color": "#2a3f5f"
          },
          "geo": {
           "bgcolor": "white",
           "lakecolor": "white",
           "landcolor": "#E5ECF6",
           "showlakes": true,
           "showland": true,
           "subunitcolor": "white"
          },
          "hoverlabel": {
           "align": "left"
          },
          "hovermode": "closest",
          "mapbox": {
           "style": "light"
          },
          "paper_bgcolor": "white",
          "plot_bgcolor": "#E5ECF6",
          "polar": {
           "angularaxis": {
            "gridcolor": "white",
            "linecolor": "white",
            "ticks": ""
           },
           "bgcolor": "#E5ECF6",
           "radialaxis": {
            "gridcolor": "white",
            "linecolor": "white",
            "ticks": ""
           }
          },
          "scene": {
           "xaxis": {
            "backgroundcolor": "#E5ECF6",
            "gridcolor": "white",
            "gridwidth": 2,
            "linecolor": "white",
            "showbackground": true,
            "ticks": "",
            "zerolinecolor": "white"
           },
           "yaxis": {
            "backgroundcolor": "#E5ECF6",
            "gridcolor": "white",
            "gridwidth": 2,
            "linecolor": "white",
            "showbackground": true,
            "ticks": "",
            "zerolinecolor": "white"
           },
           "zaxis": {
            "backgroundcolor": "#E5ECF6",
            "gridcolor": "white",
            "gridwidth": 2,
            "linecolor": "white",
            "showbackground": true,
            "ticks": "",
            "zerolinecolor": "white"
           }
          },
          "shapedefaults": {
           "line": {
            "color": "#2a3f5f"
           }
          },
          "ternary": {
           "aaxis": {
            "gridcolor": "white",
            "linecolor": "white",
            "ticks": ""
           },
           "baxis": {
            "gridcolor": "white",
            "linecolor": "white",
            "ticks": ""
           },
           "bgcolor": "#E5ECF6",
           "caxis": {
            "gridcolor": "white",
            "linecolor": "white",
            "ticks": ""
           }
          },
          "title": {
           "x": 0.05
          },
          "xaxis": {
           "automargin": true,
           "gridcolor": "white",
           "linecolor": "white",
           "ticks": "",
           "title": {
            "standoff": 15
           },
           "zerolinecolor": "white",
           "zerolinewidth": 2
          },
          "yaxis": {
           "automargin": true,
           "gridcolor": "white",
           "linecolor": "white",
           "ticks": "",
           "title": {
            "standoff": 15
           },
           "zerolinecolor": "white",
           "zerolinewidth": 2
          }
         }
        },
        "title": {
         "text": "The Features' Impact on the Model's r2 Score",
         "x": 0.5
        },
        "xaxis": {
         "autorange": true,
         "categoryorder": "total ascending",
         "gridcolor": "LightGrey",
         "linecolor": "Grey",
         "linewidth": 1,
         "mirror": false,
         "range": [
          -0.06736935122301907,
          1.252623598095627
         ],
         "showline": true,
         "showticklabels": true,
         "side": "top",
         "type": "linear",
         "visible": true,
         "zeroline": true,
         "zerolinecolor": "DarkGrey",
         "zerolinewidth": 1
        },
        "yaxis": {
         "autorange": true,
         "categoryorder": "total ascending",
         "gridcolor": "rgba(0, 0, 0, 0)",
         "linecolor": "Grey",
         "linewidth": 1,
         "mirror": false,
         "range": [
          -0.5,
          24.5
         ],
         "showline": true,
         "showticklabels": true,
         "side": "left",
         "type": "category",
         "visible": true,
         "zeroline": true,
         "zerolinecolor": "DarkGrey",
         "zerolinewidth": 1
        }
       }
      },
      "image/png": "[encoded data removed]",
      "text/html": [
       "<div>                            <div id=\"eb7fc853-ff1a-4040-bf51-3094a10c48d8\" class=\"plotly-graph-div\" style=\"height:1100px; width:100%;\"></div>            <script type=\"text/javascript\">                require([\"plotly\"], function(Plotly) {                    window.PLOTLYENV=window.PLOTLYENV || {};                                    if (document.getElementById(\"eb7fc853-ff1a-4040-bf51-3094a10c48d8\")) {                    Plotly.newPlot(                        \"eb7fc853-ff1a-4040-bf51-3094a10c48d8\",                        [{\"error_x\":{\"array\":[0.07446373847604959,0.07720512239822958,0.0017575231438068085,0.00048008149260056064,0.00083890637752556,0.0010089737214924665,0.0015568694993836312,0.00040257637170193543,1.1475845230301759e-05,8.164260580865352e-06,3.854239460530295e-06,3.388859025010333e-06,3.987431895987608e-06,7.270910974742571e-06,2.0324189134138464e-06,2.0393803079441492e-06,1.9599065608758897e-05,1.7156663336484113e-05,0.0012115594731836067,0.000127138090220139,0.0007359202455557405,0.0002558636895320142,0.0004804495498013674,0.0009288895173349104,0.00024843992601867183],\"arrayminus\":[0.07446373847604959,0.07720512239822952,0.0017575231438068082,0.00048008149260056075,0.0008389063775255601,0.0010089737214924665,0.0015568694993836312,0.00040257637170193543,1.1475845230301757e-05,8.164260580865352e-06,3.854239460530295e-06,3.3888590250103336e-06,3.987431895987608e-06,7.27091097474257e-06,2.0324189134138464e-06,2.0393803079441492e-06,1.9599065608758897e-05,1.7156663336484113e-05,0.0012115594731836067,0.00012713809022013898,0.0007359202455557405,0.0002558636895320142,0.0004804495498013674,0.0009288895173349105,0.00024843992601867183],\"type\":\"data\"},\"legendgroup\":\"None\",\"marker\":{\"color\":\"rgb(248,0,0)\"},\"orientation\":\"h\",\"showlegend\":false,\"text\":\"\",\"textposition\":\"outside\",\"width\":0.3,\"x\":[1.1121602121536451,0.470210933204162,0.0029589707583466906,0.0011969045981404692,0.0006803697055207004,0.0002286512546837205,0.00018716574229686865,2.511547017288729e-05,7.727774042065594e-06,3.7777012529272014e-06,2.95931037768149e-06,2.011594926043525e-06,1.966158795640993e-06,1.7947647286797875e-06,3.2029577622383344e-07,-1.0023780059320586e-06,-9.354182610687989e-06,-1.563884450681563e-05,-2.7532047288791884e-05,-3.3363086834892194e-05,-9.377886674860614e-05,-0.00018858380933814978,-0.0001923084884422832,-0.0003029275557421496,-0.0003502871471517177],\"y\":[\"SEASON_SUMMER\",\"SEASON_AUTUMN\",\"SURVEY_METHOD_PDC_ELECTRIC_FISHING_SINGLE_CATCH\",\"SURVEY_METHOD_ELECTRIC_FISHING_SINGLE_CATCH\",\"AREA_EXE\",\"SURVEY_METHOD_ELECTRIC_FISHING_DEPLETION_SAMPLE\",\"AREA_PLYM\",\"AREA_DART\",\"SPECIES_STONE_LOACH\",\"SPECIES_BULLHEAD\",\"SPECIES_MINNOW\",\"EVENT_DATE_YEAR\",\"SPECIES_SEA_TROUT\",\"SPECIES_EUROPEAN_EEL\",\"SPECIES_OTHER\",\"SPECIES_LAMPREY\",\"FISHED_AREA\",\"SURVEY_RANKED_EASTING\",\"SURVEY_METHOD_AC_ELECTRIC_FISHING_SINGLE_CATCH\",\"SURVEY_RANKED_NORTHING\",\"AREA_TEIGN\",\"SURVEY_METHOD_DC_ELECTRIC_FISHING_TSAMPLE\",\"SURVEY_METHOD_DC_ELECTRIC_FISHING_SINGLE_CATCH\",\"SURVEY_METHOD_PDC_ELECTRIC_FISHING_TSAMPLE\",\"SURVEY_METHOD_ELECTRIC_FISHING_TSAMPLE\"],\"type\":\"bar\"}],                        {\"template\":{\"data\":{\"histogram2dcontour\":[{\"type\":\"histogram2dcontour\",\"colorbar\":{\"outlinewidth\":0,\"ticks\":\"\"},\"colorscale\":[[0.0,\"#0d0887\"],[0.1111111111111111,\"#46039f\"],[0.2222222222222222,\"#7201a8\"],[0.3333333333333333,\"#9c179e\"],[0.4444444444444444,\"#bd3786\"],[0.5555555555555556,\"#d8576b\"],[0.6666666666666666,\"#ed7953\"],[0.7777777777777778,\"#fb9f3a\"],[0.8888888888888888,\"#fdca26\"],[1.0,\"#f0f921\"]]}],\"choropleth\":[{\"type\":\"choropleth\",\"colorbar\":{\"outlinewidth\":0,\"ticks\":\"\"}}],\"histogram2d\":[{\"type\":\"histogram2d\",\"colorbar\":{\"outlinewidth\":0,\"ticks\":\"\"},\"colorscale\":[[0.0,\"#0d0887\"],[0.1111111111111111,\"#46039f\"],[0.2222222222222222,\"#7201a8\"],[0.3333333333333333,\"#9c179e\"],[0.4444444444444444,\"#bd3786\"],[0.5555555555555556,\"#d8576b\"],[0.6666666666666666,\"#ed7953\"],[0.7777777777777778,\"#fb9f3a\"],[0.8888888888888888,\"#fdca26\"],[1.0,\"#f0f921\"]]}],\"heatmap\":[{\"type\":\"heatmap\",\"colorbar\":{\"outlinewidth\":0,\"ticks\":\"\"},\"colorscale\":[[0.0,\"#0d0887\"],[0.1111111111111111,\"#46039f\"],[0.2222222222222222,\"#7201a8\"],[0.3333333333333333,\"#9c179e\"],[0.4444444444444444,\"#bd3786\"],[0.5555555555555556,\"#d8576b\"],[0.6666666666666666,\"#ed7953\"],[0.7777777777777778,\"#fb9f3a\"],[0.8888888888888888,\"#fdca26\"],[1.0,\"#f0f921\"]]}],\"heatmapgl\":[{\"type\":\"heatmapgl\",\"colorbar\":{\"outlinewidth\":0,\"ticks\":\"\"},\"colorscale\":[[0.0,\"#0d0887\"],[0.1111111111111111,\"#46039f\"],[0.2222222222222222,\"#7201a8\"],[0.3333333333333333,\"#9c179e\"],[0.4444444444444444,\"#bd3786\"],[0.5555555555555556,\"#d8576b\"],[0.6666666666666666,\"#ed7953\"],[0.7777777777777778,\"#fb9f3a\"],[0.8888888888888888,\"#fdca26\"],[1.0,\"#f0f921\"]]}],\"contourcarpet\":[{\"type\":\"contourcarpet\",\"colorbar\":{\"outlinewidth\":0,\"ticks\":\"\"}}],\"contour\":[{\"type\":\"contour\",\"colorbar\":{\"outlinewidth\":0,\"ticks\":\"\"},\"colorscale\":[[0.0,\"#0d0887\"],[0.1111111111111111,\"#46039f\"],[0.2222222222222222,\"#7201a8\"],[0.3333333333333333,\"#9c179e\"],[0.4444444444444444,\"#bd3786\"],[0.5555555555555556,\"#d8576b\"],[0.6666666666666666,\"#ed7953\"],[0.7777777777777778,\"#fb9f3a\"],[0.8888888888888888,\"#fdca26\"],[1.0,\"#f0f921\"]]}],\"surface\":[{\"type\":\"surface\",\"colorbar\":{\"outlinewidth\":0,\"ticks\":\"\"},\"colorscale\":[[0.0,\"#0d0887\"],[0.1111111111111111,\"#46039f\"],[0.2222222222222222,\"#7201a8\"],[0.3333333333333333,\"#9c179e\"],[0.4444444444444444,\"#bd3786\"],[0.5555555555555556,\"#d8576b\"],[0.6666666666666666,\"#ed7953\"],[0.7777777777777778,\"#fb9f3a\"],[0.8888888888888888,\"#fdca26\"],[1.0,\"#f0f921\"]]}],\"mesh3d\":[{\"type\":\"mesh3d\",\"colorbar\":{\"outlinewidth\":0,\"ticks\":\"\"}}],\"scatter\":[{\"fillpattern\":{\"fillmode\":\"overlay\",\"size\":10,\"solidity\":0.2},\"type\":\"scatter\"}],\"parcoords\":[{\"type\":\"parcoords\",\"line\":{\"colorbar\":{\"outlinewidth\":0,\"ticks\":\"\"}}}],\"scatterpolargl\":[{\"type\":\"scatterpolargl\",\"marker\":{\"colorbar\":{\"outlinewidth\":0,\"ticks\":\"\"}}}],\"bar\":[{\"error_x\":{\"color\":\"#2a3f5f\"},\"error_y\":{\"color\":\"#2a3f5f\"},\"marker\":{\"line\":{\"color\":\"#E5ECF6\",\"width\":0.5},\"pattern\":{\"fillmode\":\"overlay\",\"size\":10,\"solidity\":0.2}},\"type\":\"bar\"}],\"scattergeo\":[{\"type\":\"scattergeo\",\"marker\":{\"colorbar\":{\"outlinewidth\":0,\"ticks\":\"\"}}}],\"scatterpolar\":[{\"type\":\"scatterpolar\",\"marker\":{\"colorbar\":{\"outlinewidth\":0,\"ticks\":\"\"}}}],\"histogram\":[{\"marker\":{\"pattern\":{\"fillmode\":\"overlay\",\"size\":10,\"solidity\":0.2}},\"type\":\"histogram\"}],\"scattergl\":[{\"type\":\"scattergl\",\"marker\":{\"colorbar\":{\"outlinewidth\":0,\"ticks\":\"\"}}}],\"scatter3d\":[{\"type\":\"scatter3d\",\"line\":{\"colorbar\":{\"outlinewidth\":0,\"ticks\":\"\"}},\"marker\":{\"colorbar\":{\"outlinewidth\":0,\"ticks\":\"\"}}}],\"scattermapbox\":[{\"type\":\"scattermapbox\",\"marker\":{\"colorbar\":{\"outlinewidth\":0,\"ticks\":\"\"}}}],\"scatterternary\":[{\"type\":\"scatterternary\",\"marker\":{\"colorbar\":{\"outlinewidth\":0,\"ticks\":\"\"}}}],\"scattercarpet\":[{\"type\":\"scattercarpet\",\"marker\":{\"colorbar\":{\"outlinewidth\":0,\"ticks\":\"\"}}}],\"carpet\":[{\"aaxis\":{\"endlinecolor\":\"#2a3f5f\",\"gridcolor\":\"white\",\"linecolor\":\"white\",\"minorgridcolor\":\"white\",\"startlinecolor\":\"#2a3f5f\"},\"baxis\":{\"endlinecolor\":\"#2a3f5f\",\"gridcolor\":\"white\",\"linecolor\":\"white\",\"minorgridcolor\":\"white\",\"startlinecolor\":\"#2a3f5f\"},\"type\":\"carpet\"}],\"table\":[{\"cells\":{\"fill\":{\"color\":\"#EBF0F8\"},\"line\":{\"color\":\"white\"}},\"header\":{\"fill\":{\"color\":\"#C8D4E3\"},\"line\":{\"color\":\"white\"}},\"type\":\"table\"}],\"barpolar\":[{\"marker\":{\"line\":{\"color\":\"#E5ECF6\",\"width\":0.5},\"pattern\":{\"fillmode\":\"overlay\",\"size\":10,\"solidity\":0.2}},\"type\":\"barpolar\"}],\"pie\":[{\"automargin\":true,\"type\":\"pie\"}]},\"layout\":{\"autotypenumbers\":\"strict\",\"colorway\":[\"#636efa\",\"#EF553B\",\"#00cc96\",\"#ab63fa\",\"#FFA15A\",\"#19d3f3\",\"#FF6692\",\"#B6E880\",\"#FF97FF\",\"#FECB52\"],\"font\":{\"color\":\"#2a3f5f\"},\"hovermode\":\"closest\",\"hoverlabel\":{\"align\":\"left\"},\"paper_bgcolor\":\"white\",\"plot_bgcolor\":\"#E5ECF6\",\"polar\":{\"bgcolor\":\"#E5ECF6\",\"angularaxis\":{\"gridcolor\":\"white\",\"linecolor\":\"white\",\"ticks\":\"\"},\"radialaxis\":{\"gridcolor\":\"white\",\"linecolor\":\"white\",\"ticks\":\"\"}},\"ternary\":{\"bgcolor\":\"#E5ECF6\",\"aaxis\":{\"gridcolor\":\"white\",\"linecolor\":\"white\",\"ticks\":\"\"},\"baxis\":{\"gridcolor\":\"white\",\"linecolor\":\"white\",\"ticks\":\"\"},\"caxis\":{\"gridcolor\":\"white\",\"linecolor\":\"white\",\"ticks\":\"\"}},\"coloraxis\":{\"colorbar\":{\"outlinewidth\":0,\"ticks\":\"\"}},\"colorscale\":{\"sequential\":[[0.0,\"#0d0887\"],[0.1111111111111111,\"#46039f\"],[0.2222222222222222,\"#7201a8\"],[0.3333333333333333,\"#9c179e\"],[0.4444444444444444,\"#bd3786\"],[0.5555555555555556,\"#d8576b\"],[0.6666666666666666,\"#ed7953\"],[0.7777777777777778,\"#fb9f3a\"],[0.8888888888888888,\"#fdca26\"],[1.0,\"#f0f921\"]],\"sequentialminus\":[[0.0,\"#0d0887\"],[0.1111111111111111,\"#46039f\"],[0.2222222222222222,\"#7201a8\"],[0.3333333333333333,\"#9c179e\"],[0.4444444444444444,\"#bd3786\"],[0.5555555555555556,\"#d8576b\"],[0.6666666666666666,\"#ed7953\"],[0.7777777777777778,\"#fb9f3a\"],[0.8888888888888888,\"#fdca26\"],[1.0,\"#f0f921\"]],\"diverging\":[[0,\"#8e0152\"],[0.1,\"#c51b7d\"],[0.2,\"#de77ae\"],[0.3,\"#f1b6da\"],[0.4,\"#fde0ef\"],[0.5,\"#f7f7f7\"],[0.6,\"#e6f5d0\"],[0.7,\"#b8e186\"],[0.8,\"#7fbc41\"],[0.9,\"#4d9221\"],[1,\"#276419\"]]},\"xaxis\":{\"gridcolor\":\"white\",\"linecolor\":\"white\",\"ticks\":\"\",\"title\":{\"standoff\":15},\"zerolinecolor\":\"white\",\"automargin\":true,\"zerolinewidth\":2},\"yaxis\":{\"gridcolor\":\"white\",\"linecolor\":\"white\",\"ticks\":\"\",\"title\":{\"standoff\":15},\"zerolinecolor\":\"white\",\"automargin\":true,\"zerolinewidth\":2},\"scene\":{\"xaxis\":{\"backgroundcolor\":\"#E5ECF6\",\"gridcolor\":\"white\",\"linecolor\":\"white\",\"showbackground\":true,\"ticks\":\"\",\"zerolinecolor\":\"white\",\"gridwidth\":2},\"yaxis\":{\"backgroundcolor\":\"#E5ECF6\",\"gridcolor\":\"white\",\"linecolor\":\"white\",\"showbackground\":true,\"ticks\":\"\",\"zerolinecolor\":\"white\",\"gridwidth\":2},\"zaxis\":{\"backgroundcolor\":\"#E5ECF6\",\"gridcolor\":\"white\",\"linecolor\":\"white\",\"showbackground\":true,\"ticks\":\"\",\"zerolinecolor\":\"white\",\"gridwidth\":2}},\"shapedefaults\":{\"line\":{\"color\":\"#2a3f5f\"}},\"annotationdefaults\":{\"arrowcolor\":\"#2a3f5f\",\"arrowhead\":0,\"arrowwidth\":1},\"geo\":{\"bgcolor\":\"white\",\"landcolor\":\"#E5ECF6\",\"subunitcolor\":\"white\",\"showland\":true,\"showlakes\":true,\"lakecolor\":\"white\"},\"title\":{\"x\":0.05},\"mapbox\":{\"style\":\"light\"}}},\"title\":{\"text\":\"The Features' Impact on the Model's r2 Score\",\"x\":0.5},\"margin\":{\"t\":80,\"b\":20},\"plot_bgcolor\":\"rgba(0,0,0,0)\",\"height\":1100,\"xaxis\":{\"gridcolor\":\"LightGrey\",\"linewidth\":1,\"linecolor\":\"Grey\",\"showline\":true,\"mirror\":false,\"zeroline\":true,\"zerolinewidth\":1,\"zerolinecolor\":\"DarkGrey\",\"categoryorder\":\"total ascending\",\"side\":\"top\",\"visible\":true,\"showticklabels\":true},\"yaxis\":{\"gridcolor\":\"rgba(0,0,0,0)\",\"linewidth\":1,\"linecolor\":\"Grey\",\"showline\":true,\"mirror\":false,\"zeroline\":true,\"zerolinewidth\":1,\"zerolinecolor\":\"DarkGrey\",\"categoryorder\":\"total ascending\",\"side\":\"left\",\"visible\":true,\"showticklabels\":true}},                        {\"responsive\": true}                    ).then(function(){\n",
       "                            \n",
       "var gd = document.getElementById('eb7fc853-ff1a-4040-bf51-3094a10c48d8');\n",
       "var x = new MutationObserver(function (mutations, observer) {{\n",
       "        var display = window.getComputedStyle(gd).display;\n",
       "        if (!display || display === 'none') {{\n",
       "            console.log([gd, 'removed!']);\n",
       "            Plotly.purge(gd);\n",
       "            observer.disconnect();\n",
       "        }}\n",
       "}});\n",
       "\n",
       "// Listen for the removal of the full notebook cells\n",
       "var notebookContainer = gd.closest('#notebook-container');\n",
       "if (notebookContainer) {{\n",
       "    x.observe(notebookContainer, {childList: true});\n",
       "}}\n",
       "\n",
       "// Listen for the clearing of the current output cell\n",
       "var outputEl = gd.closest('.output');\n",
       "if (outputEl) {{\n",
       "    x.observe(outputEl, {childList: true});\n",
       "}}\n",
       "\n",
       "                        })                };                });            </script>        </div>"
      ]
     },
     "metadata": {},
     "output_type": "display_data"
    }
   ],
   "source": [
    "result_explain_model_default.show_in_notebook()"
   ]
  },
  {
   "cell_type": "markdown",
   "id": "e478f04f-d304-446d-a839-a33b2351220f",
   "metadata": {},
   "source": [
    "## Assess Model Fit"
   ]
  },
  {
   "cell_type": "markdown",
   "id": "a3ad4f77-4e0b-4b1d-8865-92cd89adcbaa",
   "metadata": {},
   "source": [
    "Likewise, we can accelerate evaluation metrics. Our test MSE is 0.45. This suggests we have a lower (better) RMSE than our hand-crafted regression model."
   ]
  },
  {
   "cell_type": "code",
   "execution_count": 27,
   "id": "09d61edb-b0f6-4580-a18b-79fe13b0654d",
   "metadata": {},
   "outputs": [],
   "source": [
    "from ads.common.model import ADSModel\n",
    "from ads.common.data import ADSData\n",
    "from ads.evaluations.evaluator import ADSEvaluator"
   ]
  },
  {
   "cell_type": "code",
   "execution_count": 28,
   "id": "08865ddf-6a8f-4a5c-8853-5b9c9bcd4c2b",
   "metadata": {},
   "outputs": [
    {
     "name": "stdout",
     "output_type": "stream",
     "text": [
      "[2025-04-01 11:13:33,332] [ads.common] ADSModel is being deprecated. Users should instead use GenericModel or one of its subclasses. More information here: https://accelerated-data-science.readthedocs.io/en/latest/user_guide/model_registration/introduction.html#register\n"
     ]
    },
    {
     "data": {
      "text/html": [
       "<style type=\"text/css\">\n",
       "#T_95164_row0_col0, #T_95164_row1_col0, #T_95164_row2_col0 {\n",
       "  background-color: lightgreen;\n",
       "  text-align: center;\n",
       "}\n",
       "</style>\n",
       "<table id=\"T_95164\" class=table>\n",
       "  <caption><div align=\"left\"><b style=\"font-size:20px;\">Evaluation Metrics (testing data):</b></div></caption>\n",
       "  <thead>\n",
       "    <tr>\n",
       "      <th class=\"blank level0\" >&nbsp;</th>\n",
       "      <th id=\"T_95164_level0_col0\" class=\"col_heading level0 col0\" ><automlx._interface.regressor.AutoRegressor object at 0x7f478bb370d0></th>\n",
       "    </tr>\n",
       "  </thead>\n",
       "  <tbody>\n",
       "    <tr>\n",
       "      <th id=\"T_95164_level0_row0\" class=\"row_heading level0 row0\" >r2_score</th>\n",
       "      <td id=\"T_95164_row0_col0\" class=\"data row0 col0\" >0.6630</td>\n",
       "    </tr>\n",
       "    <tr>\n",
       "      <th id=\"T_95164_level0_row1\" class=\"row_heading level0 row1\" >mse</th>\n",
       "      <td id=\"T_95164_row1_col0\" class=\"data row1 col0\" >0.4530</td>\n",
       "    </tr>\n",
       "    <tr>\n",
       "      <th id=\"T_95164_level0_row2\" class=\"row_heading level0 row2\" >mae</th>\n",
       "      <td id=\"T_95164_row2_col0\" class=\"data row2 col0\" >0.2800</td>\n",
       "    </tr>\n",
       "  </tbody>\n",
       "</table>\n"
      ],
      "text/plain": [
       "<IPython.core.display.HTML object>"
      ]
     },
     "metadata": {},
     "output_type": "display_data"
    },
    {
     "data": {
      "text/html": [
       "<style type=\"text/css\">\n",
       "#T_62d3b_row0_col0, #T_62d3b_row1_col0, #T_62d3b_row2_col0 {\n",
       "  background-color: lightgreen;\n",
       "  text-align: center;\n",
       "}\n",
       "</style>\n",
       "<table id=\"T_62d3b\" class=table>\n",
       "  <caption><div align=\"left\"><b style=\"font-size:20px;\">Evaluation Metrics (training data):</b></div></caption>\n",
       "  <thead>\n",
       "    <tr>\n",
       "      <th class=\"blank level0\" >&nbsp;</th>\n",
       "      <th id=\"T_62d3b_level0_col0\" class=\"col_heading level0 col0\" ><automlx._interface.regressor.AutoRegressor object at 0x7f478bb370d0></th>\n",
       "    </tr>\n",
       "  </thead>\n",
       "  <tbody>\n",
       "    <tr>\n",
       "      <th id=\"T_62d3b_level0_row0\" class=\"row_heading level0 row0\" >r2_score</th>\n",
       "      <td id=\"T_62d3b_row0_col0\" class=\"data row0 col0\" >0.3958</td>\n",
       "    </tr>\n",
       "    <tr>\n",
       "      <th id=\"T_62d3b_level0_row1\" class=\"row_heading level0 row1\" >mse</th>\n",
       "      <td id=\"T_62d3b_row1_col0\" class=\"data row1 col0\" >1.7223</td>\n",
       "    </tr>\n",
       "    <tr>\n",
       "      <th id=\"T_62d3b_level0_row2\" class=\"row_heading level0 row2\" >mae</th>\n",
       "      <td id=\"T_62d3b_row2_col0\" class=\"data row2 col0\" >1.0093</td>\n",
       "    </tr>\n",
       "  </tbody>\n",
       "</table>\n"
      ],
      "text/plain": [
       "<IPython.core.display.HTML object>"
      ]
     },
     "metadata": {},
     "output_type": "display_data"
    },
    {
     "name": "stdout",
     "output_type": "stream",
     "text": [
      "\n"
     ]
    }
   ],
   "source": [
    "bin_est = ADSModel.from_estimator(est)\n",
    "\n",
    "evaluator = ADSEvaluator(\n",
    "    ADSData(X_test, y_test),\n",
    "    models=[bin_est],\n",
    "    training_data=ADSData(X_train, y_train),\n",
    ")\n",
    "\n",
    "\n",
    "print(evaluator.metrics)"
   ]
  },
  {
   "cell_type": "markdown",
   "id": "6f425c68-15e4-4932-884f-fec63038fbe6",
   "metadata": {},
   "source": [
    "## Deploy to Model Endpoint"
   ]
  },
  {
   "cell_type": "markdown",
   "id": "7e5f0974-5157-45ba-b6b5-97a1bbfe76e9",
   "metadata": {},
   "source": [
    "We can deploy our model to an endpoint (i.e. run as a microservice accessed via REST). ADS allows us to quickly build the modelling artefacts, we cam then customise the `score.py` file to customise scoring. For our endpoint, we customise the scoring to transform the log prediction back to normal scale by exponenting it."
   ]
  },
  {
   "cell_type": "code",
   "execution_count": 29,
   "id": "ddfc6190-7cd4-49fe-b4ba-1917bdd11318",
   "metadata": {},
   "outputs": [],
   "source": [
    "from ads.model import GenericModel\n",
    "from ads.common.model_metadata import UseCaseType"
   ]
  },
  {
   "cell_type": "code",
   "execution_count": 53,
   "id": "9ce00df8-5a93-43cf-9c2a-03fb0275578d",
   "metadata": {},
   "outputs": [
    {
     "name": "stdout",
     "output_type": "stream",
     "text": [
      "[2025-04-01 12:36:40,854] [ads.common] In the future model input will be serialized by `cloudpickle` by default. Currently, model input are serialized into a dictionary containing serialized input data and original data type information.Set `model_input_serializer=\"cloudpickle\"` to use cloudpickle model input serializer.\n"
     ]
    }
   ],
   "source": [
    "ads.set_auth(\"resource_principal\")\n",
    "automl_model = GenericModel(estimator=est, artifact_dir=\"automl_model_artifact2\")"
   ]
  },
  {
   "cell_type": "code",
   "execution_count": 54,
   "id": "e17a6cd7-4b8c-4604-9e99-c7e2f7f7a9a2",
   "metadata": {},
   "outputs": [
    {
     "name": "stdout",
     "output_type": "stream",
     "text": [
      "                                                                                                                                                                                                                              ?, ?it/s]\r"
     ]
    },
    {
     "data": {
      "text/plain": [
       "algorithm: null\n",
       "artifact_dir:\n",
       "  /home/datascience/automl_model_artifact2:\n",
       "  - - .model-ignore\n",
       "    - model.pkl\n",
       "    - score.py\n",
       "    - input_schema.json\n",
       "    - runtime.yaml\n",
       "framework: null\n",
       "model_deployment_id: null\n",
       "model_id: null"
      ]
     },
     "execution_count": 54,
     "metadata": {},
     "output_type": "execute_result"
    }
   ],
   "source": [
    "automl_model.prepare(inference_conda_env=\"automlx242_p38_cpu_x86_64_v1\",\n",
    "                     training_conda_env=\"automlx242_p38_cpu_x86_64_v1\",\n",
    "                     use_case_type=UseCaseType.REGRESSION,\n",
    "                     X_sample=X_test,\n",
    "                     force_overwrite=True)"
   ]
  },
  {
   "cell_type": "markdown",
   "id": "8d90aea0-97a0-4054-a1fc-1fa1b37f1703",
   "metadata": {},
   "source": [
    "We can verify the model, which runs the scorecode locally to debug any logic issues."
   ]
  },
  {
   "cell_type": "code",
   "execution_count": 55,
   "id": "7b77929a-a04a-4c97-afe2-415571b11524",
   "metadata": {},
   "outputs": [
    {
     "name": "stdout",
     "output_type": "stream",
     "text": [
      "Start loading model.pkl from model directory /home/datascience/automl_model_artifact2 ...\n",
      "Model is successfully loaded.\n"
     ]
    },
    {
     "data": {
      "text/plain": [
       "{'prediction': [0.0, 0.0, 0.0]}"
      ]
     },
     "execution_count": 55,
     "metadata": {},
     "output_type": "execute_result"
    }
   ],
   "source": [
    "automl_model.verify(X_test[:3],auto_serialize_data=True)"
   ]
  },
  {
   "cell_type": "code",
   "execution_count": 56,
   "id": "dd13acc3-9018-41f2-b670-2b3d3bff64cb",
   "metadata": {},
   "outputs": [
    {
     "name": "stdout",
     "output_type": "stream",
     "text": [
      "Start loading model.pkl from model directory /home/datascience/automl_model_artifact2 ...\n",
      "Model is successfully loaded.\n"
     ]
    },
    {
     "data": {
      "text/plain": [
       "algorithm: null\n",
       "artifact_dir:\n",
       "  /home/datascience/automl_model_artifact2:\n",
       "  - - .model-ignore\n",
       "    - model.pkl\n",
       "    - score.py\n",
       "    - input_schema.json\n",
       "    - runtime.yaml\n",
       "framework: null\n",
       "model_deployment_id: null\n",
       "model_id: null"
      ]
     },
     "execution_count": 56,
     "metadata": {},
     "output_type": "execute_result"
    }
   ],
   "source": [
    "automl_model.reload()"
   ]
  },
  {
   "cell_type": "code",
   "execution_count": 57,
   "id": "9e611ea9-3712-4635-a33a-7350fcfb666b",
   "metadata": {},
   "outputs": [
    {
     "name": "stdout",
     "output_type": "stream",
     "text": [
      "Start loading model.pkl from model directory /home/datascience/automl_model_artifact2 ...\n",
      "Model is successfully loaded.\n",
      "['.model-ignore', 'model.pkl', 'score.py', 'input_schema.json', 'runtime.yaml']\n"
     ]
    },
    {
     "data": {
      "application/vnd.jupyter.widget-view+json": {
       "model_id": "",
       "version_major": 2,
       "version_minor": 0
      },
      "text/plain": [
       "loop1:   0%|          | 0/4 [00:00<?, ?it/s]"
      ]
     },
     "metadata": {},
     "output_type": "display_data"
    },
    {
     "name": "stdout",
     "output_type": "stream",
     "text": [
      "[2025-04-01 12:38:30,675] [ads.model.datascience_model] the JSON object must be str, bytes or bytearray, not Schema\n"
     ]
    }
   ],
   "source": [
    "model_id = automl_model.save(display_name='Fish Stock Regression Model')"
   ]
  },
  {
   "cell_type": "markdown",
   "id": "cdca84d2-b702-457b-b57a-6605de106840",
   "metadata": {},
   "source": [
    "When we deploy our model it will provision OCI resources for us. We can specify the compute shape etc. as well, or simply run .deploy() accepting defaults."
   ]
  },
  {
   "cell_type": "code",
   "execution_count": 58,
   "id": "de24e330-3c16-4b2a-ac3a-28a41359aa31",
   "metadata": {},
   "outputs": [
    {
     "name": "stdout",
     "output_type": "stream",
     "text": [
      "Model Deployment OCID: ocid1.datasciencemodeldeployment.oc1.eu-frankfurt-1.amaaaaaaeicj2tiahd4jwvailhkzjnmmkbmbo265ct3znozp3p4qyuavbboq\n"
     ]
    },
    {
     "data": {
      "application/vnd.jupyter.widget-view+json": {
       "model_id": "",
       "version_major": 2,
       "version_minor": 0
      },
      "text/plain": [
       "Creating model deployment:   0%|          | [00:00<?, ?it/s]"
      ]
     },
     "metadata": {},
     "output_type": "display_data"
    }
   ],
   "source": [
    "deploy = automl_model.deploy(display_name='Fish Stock Regression Model')\n"
   ]
  },
  {
   "cell_type": "code",
   "execution_count": 59,
   "id": "306fea9c-10ce-4f85-a255-e134cb330e89",
   "metadata": {
    "tags": []
   },
   "outputs": [
    {
     "data": {
      "text/plain": [
       "{'prediction': [0.0, 0.0]}"
      ]
     },
     "execution_count": 59,
     "metadata": {},
     "output_type": "execute_result"
    }
   ],
   "source": [
    "automl_model.predict(X_test.iloc[:2], auto_serialize_data=True)"
   ]
  }
 ],
 "metadata": {
  "kernelspec": {
   "display_name": "Python [conda env:automlx242_p38_cpu_x86_64_v1]",
   "language": "python",
   "name": "conda-env-automlx242_p38_cpu_x86_64_v1-py"
  },
  "language_info": {
   "codemirror_mode": {
    "name": "ipython",
    "version": 3
   },
   "file_extension": ".py",
   "mimetype": "text/x-python",
   "name": "python",
   "nbconvert_exporter": "python",
   "pygments_lexer": "ipython3",
   "version": "3.8.16"
  }
 },
 "nbformat": 4,
 "nbformat_minor": 5
}
